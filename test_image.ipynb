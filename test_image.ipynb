{
 "cells": [
  {
   "cell_type": "code",
   "execution_count": 3,
   "id": "1da2c12f-ed56-4ea5-9b5c-11b6eaec9e91",
   "metadata": {},
   "outputs": [
    {
     "name": "stderr",
     "output_type": "stream",
     "text": [
      "WARNING:absl:No training configuration found in the save file, so the model was *not* compiled. Compile it manually.\n"
     ]
    },
    {
     "name": "stdout",
     "output_type": "stream",
     "text": [
      "✅ Loading model from: federated_model.h5\n",
      "✅ Model loaded successfully.\n",
      "✅ Loading and preprocessing image: moderate.png\n",
      "🧪 Making prediction...\n",
      "\u001b[1m1/1\u001b[0m \u001b[32m━━━━━━━━━━━━━━━━━━━━\u001b[0m\u001b[37m\u001b[0m \u001b[1m0s\u001b[0m 134ms/step\n",
      "\n",
      "🎉 Prediction Complete!\n",
      "   Predicted Class: No\n",
      "   Confidence: 66.81%\n",
      "\n",
      "Confidence Scores for All Classes:\n",
      "   - Mild: 1.92%\n",
      "   - Moderate: 10.71%\n",
      "   - No: 66.81%\n",
      "   - Very Mild: 20.56%\n"
     ]
    }
   ],
   "source": [
    "import tensorflow as tf\n",
    "import numpy as np\n",
    "from tensorflow.keras.models import load_model\n",
    "from tensorflow.keras.preprocessing import image\n",
    "\n",
    "# ============================================================\n",
    "# 1. Setup: Load Model and Image Path\n",
    "# ============================================================\n",
    "MODEL_PATH = \"federated_model.h5\"\n",
    "IMAGE_PATH = \"moderate.png\" # The name you saved the image as\n",
    "IMG_SIZE = (128, 128)\n",
    "\n",
    "# Define the class names in the exact order your model was trained on\n",
    "# Check the folder order in your original dataset to be sure.\n",
    "# The typical order from `image_dataset_from_directory` is alphabetical.\n",
    "CLASS_NAMES = [\"Mild\", \"Moderate\", \"No\", \"Very Mild\"] \n",
    "\n",
    "print(f\"✅ Loading model from: {MODEL_PATH}\")\n",
    "model = load_model(MODEL_PATH)\n",
    "print(\"✅ Model loaded successfully.\")\n",
    "\n",
    "# ============================================================\n",
    "# 2. Load and Preprocess the Image\n",
    "# ============================================================\n",
    "print(f\"✅ Loading and preprocessing image: {IMAGE_PATH}\")\n",
    "\n",
    "# Load the image from the file path, resizing it to the model's expected input size\n",
    "img = image.load_img(IMAGE_PATH, target_size=IMG_SIZE)\n",
    "\n",
    "# Convert the image to a NumPy array\n",
    "img_array = image.img_to_array(img)\n",
    "\n",
    "# Normalize the image array (scaling pixel values from 0-255 to 0-1)\n",
    "img_array /= 255.0\n",
    "\n",
    "# The model expects a \"batch\" of images, so we add an extra dimension\n",
    "# The shape changes from (128, 128, 3) to (1, 128, 128, 3)\n",
    "img_batch = np.expand_dims(img_array, axis=0)\n",
    "\n",
    "# ============================================================\n",
    "# 3. Make and Display the Prediction\n",
    "# ============================================================\n",
    "print(\"🧪 Making prediction...\")\n",
    "\n",
    "# Use the model to predict the class of the image\n",
    "predictions = model.predict(img_batch)\n",
    "\n",
    "# The output 'predictions' is an array of probabilities for each class\n",
    "# We find the index of the highest probability\n",
    "predicted_class_index = np.argmax(predictions[0])\n",
    "\n",
    "# Use the index to get the corresponding class name\n",
    "predicted_class_name = CLASS_NAMES[predicted_class_index]\n",
    "\n",
    "# Get the confidence score for the prediction\n",
    "confidence = np.max(predictions[0])\n",
    "\n",
    "print(\"\\n🎉 Prediction Complete!\")\n",
    "print(f\"   Predicted Class: {predicted_class_name}\")\n",
    "print(f\"   Confidence: {confidence:.2%}\")\n",
    "\n",
    "# Optional: Print the probabilities for all classes\n",
    "print(\"\\nConfidence Scores for All Classes:\")\n",
    "for i, class_name in enumerate(CLASS_NAMES):\n",
    "    print(f\"   - {class_name}: {predictions[0][i]:.2%}\")"
   ]
  },
  {
   "cell_type": "code",
   "execution_count": null,
   "id": "2c28fe82-eca1-4031-9122-de8b652ff7e8",
   "metadata": {},
   "outputs": [],
   "source": []
  }
 ],
 "metadata": {
  "kernelspec": {
   "display_name": "Python 3 (ipykernel)",
   "language": "python",
   "name": "python3"
  },
  "language_info": {
   "codemirror_mode": {
    "name": "ipython",
    "version": 3
   },
   "file_extension": ".py",
   "mimetype": "text/x-python",
   "name": "python",
   "nbconvert_exporter": "python",
   "pygments_lexer": "ipython3",
   "version": "3.9.23"
  }
 },
 "nbformat": 4,
 "nbformat_minor": 5
}
